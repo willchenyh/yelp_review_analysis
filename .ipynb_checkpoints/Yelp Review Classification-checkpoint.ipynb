{
 "cells": [
  {
   "cell_type": "markdown",
   "metadata": {},
   "source": [
    "### Yelp Review Classification (Positive vs Negative)\n",
    "\n",
    "Data Source: https://www.kaggle.com/c/yelp-recruiting"
   ]
  },
  {
   "cell_type": "code",
   "execution_count": 44,
   "metadata": {
    "collapsed": true
   },
   "outputs": [],
   "source": [
    "from __future__ import print_function\n",
    "import pandas as pd\n",
    "import numpy as np"
   ]
  },
  {
   "cell_type": "code",
   "execution_count": 20,
   "metadata": {
    "collapsed": false
   },
   "outputs": [
    {
     "name": "stdout",
     "output_type": "stream",
     "text": [
      "(229907, 8)\n",
      "              business_id       date               review_id  stars  \\\n",
      "0  9yKzy9PApeiPPOUJEtnvkg 2011-01-26  fWKvX83p0-ka4JS3dc6E5A      5   \n",
      "1  ZRJwVLyzEJq1VAihDhYiow 2011-07-27  IjZ33sJrzXqU-0X6U8NwyA      5   \n",
      "2  6oRAC4uyJCsJl1X0WZpVSA 2012-06-14  IESLBzqUCLdSzSqm0eCSxQ      4   \n",
      "3  _1QQZuf4zZOyFCvXc0o6Vg 2010-05-27  G-WvGaISbqqaMHlNnByodA      5   \n",
      "4  6ozycU1RpktNG2-1BroVtw 2012-01-05  1uJFq2r5QfJG_6ExMRCaGw      5   \n",
      "\n",
      "                                                text    type  \\\n",
      "0  My wife took me here on my birthday for breakf...  review   \n",
      "1  I have no idea why some people give bad review...  review   \n",
      "2  love the gyro plate. Rice is so good and I als...  review   \n",
      "3  Rosie, Dakota, and I LOVE Chaparral Dog Park!!...  review   \n",
      "4  General Manager Scott Petello is a good egg!!!...  review   \n",
      "\n",
      "                  user_id                                    votes  \n",
      "0  rLtl8ZkDX5vH5nAx9C3q5Q  {u'funny': 0, u'useful': 5, u'cool': 2}  \n",
      "1  0a2KyEL0d3Yb1V6aivbIuQ  {u'funny': 0, u'useful': 0, u'cool': 0}  \n",
      "2  0hT2KtfLiobPvh6cDC8JQg  {u'funny': 0, u'useful': 1, u'cool': 0}  \n",
      "3  uZetl9T0NcROGOyFfughhg  {u'funny': 0, u'useful': 2, u'cool': 1}  \n",
      "4  vYmM4KTsC8ZfQBg-j5MWkw  {u'funny': 0, u'useful': 0, u'cool': 0}  \n",
      "\n"
     ]
    }
   ],
   "source": [
    "# read data to dataframe\n",
    "fname = 'yelp_training_set/yelp_training_set_review.json'\n",
    "data = pd.read_json(fname, lines=True)\n",
    "print(data.shape)\n",
    "print(data.head())\n",
    "print()"
   ]
  },
  {
   "cell_type": "code",
   "execution_count": 15,
   "metadata": {
    "collapsed": false
   },
   "outputs": [
    {
     "name": "stdout",
     "output_type": "stream",
     "text": [
      "[5 4 2 3 1]\n"
     ]
    },
    {
     "data": {
      "text/plain": [
       "'\\nresults show:\\nevery line is a review entry;\\nno Null values present\\n'"
      ]
     },
     "execution_count": 15,
     "metadata": {},
     "output_type": "execute_result"
    }
   ],
   "source": [
    "# check information\n",
    "# print('Type contains:')\n",
    "# print(data['type'].unique())\n",
    "# print('Null values:')\n",
    "# print(data.isnull().any())\n",
    "print(data['stars'].unique())\n",
    "'''\n",
    "results show:\n",
    "every line is a review entry;\n",
    "no Null values present\n",
    "'''"
   ]
  },
  {
   "cell_type": "code",
   "execution_count": 23,
   "metadata": {
    "collapsed": false
   },
   "outputs": [
    {
     "name": "stdout",
     "output_type": "stream",
     "text": [
      "   stars                                               text\n",
      "2      4  love the gyro plate. Rice is so good and I als...\n",
      "3      5  Rosie, Dakota, and I LOVE Chaparral Dog Park!!...\n",
      "4      5  General Manager Scott Petello is a good egg!!!...\n",
      "5      4  Quiessence is, simply put, beautiful.  Full wi...\n",
      "6      5  Drop what you're doing and drive here. After I...\n",
      "\n",
      "X shape: (229905L,)\n",
      "Y shape: (229905L,)\n",
      "\n",
      "1    156069\n",
      "0     73836\n",
      "Name: label, dtype: int64\n"
     ]
    }
   ],
   "source": [
    "# drop features\n",
    "# since we are only classifying positive and negative reviews, take only the useful features\n",
    "useful_features = ['stars', 'text']\n",
    "data_useful = data.loc[:, useful_features]\n",
    "data_useful = data_useful.drop(data['stars'] == 3)\n",
    "print(data_useful.head())\n",
    "print()\n",
    "\n",
    "# convert stars to binary values 0 and 1\n",
    "data_useful['label'] = data_useful['stars'].apply(lambda x : 1 if x > 3 else 0)\n",
    "\n",
    "# separte x and y data\n",
    "X_data = data_useful['text']\n",
    "Y_data = data_useful['label']\n",
    "print('X shape:', X_data.shape)\n",
    "print('Y shape:', Y_data.shape)\n",
    "print()\n",
    "\n",
    "# check number of positive and negative reviews\n",
    "print(Y_data.value_counts())"
   ]
  },
  {
   "cell_type": "code",
   "execution_count": 25,
   "metadata": {
    "collapsed": false
   },
   "outputs": [
    {
     "name": "stdout",
     "output_type": "stream",
     "text": [
      "Train shape: (172428L,)\n",
      "117082\n",
      "Test shape: (57477L,)\n"
     ]
    }
   ],
   "source": [
    "# partition train and test sets\n",
    "from sklearn.model_selection import train_test_split\n",
    "\n",
    "X_train, X_test, y_train, y_test = train_test_split(X_data, Y_data, random_state=0)\n",
    "print('Train shape:', X_train.shape)\n",
    "print(sum(y_train == 1))\n",
    "print('Test shape:', X_test.shape)"
   ]
  },
  {
   "cell_type": "markdown",
   "metadata": {},
   "source": [
    "### Bag of Words Method\n",
    "\n",
    "Use frequency vector of word occurences. It does not keep the order information.\n",
    "Tokenizing and stop-words filtering are done internally.\n",
    "\n",
    "CountVectorizer simply computes the frequency of words. TfidfVectorizaer considers the relative frequency - it pays more attention to the words that have high frequency in certain documents and not all."
   ]
  },
  {
   "cell_type": "code",
   "execution_count": 55,
   "metadata": {
    "collapsed": true
   },
   "outputs": [],
   "source": [
    "from sklearn.feature_extraction.text import CountVectorizer\n",
    "from sklearn.feature_extraction.text import TfidfVectorizer\n",
    "from sklearn.linear_model import LogisticRegression\n",
    "from sklearn.metrics import accuracy_score"
   ]
  },
  {
   "cell_type": "code",
   "execution_count": 72,
   "metadata": {
    "collapsed": false
   },
   "outputs": [
    {
     "data": {
      "text/plain": [
       "'the tokenization in sklearn simply extract words (ignoring letter case)'"
      ]
     },
     "execution_count": 72,
     "metadata": {},
     "output_type": "execute_result"
    }
   ],
   "source": [
    "# TESTING\n",
    "# text = pd.Series(['is are Main main, clothes, cloth, mice, mouse running, run, meets, met, meet'])\n",
    "# print(text)\n",
    "# vect = CountVectorizer()\n",
    "# vect.fit(text)\n",
    "# feat_names = vect.get_feature_names()\n",
    "# print(feat_names)\n",
    "'''the tokenization in sklearn simply extract words (ignoring letter case)'''"
   ]
  },
  {
   "cell_type": "markdown",
   "metadata": {},
   "source": [
    "#### use CountVectorizer"
   ]
  },
  {
   "cell_type": "code",
   "execution_count": 30,
   "metadata": {
    "collapsed": false
   },
   "outputs": [],
   "source": [
    "vect = CountVectorizer()"
   ]
  },
  {
   "cell_type": "code",
   "execution_count": 61,
   "metadata": {
    "collapsed": true
   },
   "outputs": [],
   "source": [
    "vect = CountVectorizer(min_df=3)"
   ]
  },
  {
   "cell_type": "markdown",
   "metadata": {},
   "source": [
    "#### use TF-IDF"
   ]
  },
  {
   "cell_type": "code",
   "execution_count": 56,
   "metadata": {
    "collapsed": false
   },
   "outputs": [],
   "source": [
    "vect = TfidfVectorizer()"
   ]
  },
  {
   "cell_type": "code",
   "execution_count": 66,
   "metadata": {
    "collapsed": true
   },
   "outputs": [],
   "source": [
    "vect = TfidfVectorizer(min_df=3)"
   ]
  },
  {
   "cell_type": "code",
   "execution_count": 67,
   "metadata": {
    "collapsed": true
   },
   "outputs": [],
   "source": [
    "vect = TfidfVectorizer(ngram_range=(1,2))"
   ]
  },
  {
   "cell_type": "markdown",
   "metadata": {},
   "source": [
    "### Transform data"
   ]
  },
  {
   "cell_type": "code",
   "execution_count": 68,
   "metadata": {
    "collapsed": false,
    "scrolled": true
   },
   "outputs": [
    {
     "name": "stdout",
     "output_type": "stream",
     "text": [
      "num_features: 2869511\n",
      "[u'00', u'00pm during', u'10 bbq', u'10 suits', u'1000island dressing', u'10pm sat', u'115 plus', u'12 rebounds', u'13 rating', u'15 any', u'15p', u'1700 got', u'1910 ve', u'1997 space', u'20 disappointing', u'2003 neither', u'2011 starts', u'21 shows', u'24 that', u'25th 2012', u'2am glass', u'30 chairs', u'30am saying', u'33 rather', u'38 wtf', u'40 beers', u'425 western', u'48v', u'50 cents', u'500 to', u'58 after', u'60 people', u'69 95per', u'70s was', u'7am 7pm', u'80s blu', u'8am until', u'930pm', u'99 condoms', u'___years was', u'abbie', u'about 830', u'about dedication', u'about justice', u'about recommending', u'about vermont', u'absence really', u'absolutely rules', u'ac slightly', u'accepting second', u'accidently burned', u'accompaniements', u'accoutrements and', u'acidity from', u'across oxford', u'actively watching', u'actual plaza', u'actually expected', u'actually six', u'adapting bit', u'added booster', u'addiction guanciale', u'additional markdowns', u'adequate if', u'admission or', u'adorable ambiance', u'adult lemonade', u'adventuresome but', u'advise anyone', u'afficionados of', u'aforementioned and', u'after crashing', u'after persisting', u'afterall who', u'afterward normally', u'again hans', u'again ve', u'aged bosnian', u'agnes has', u'agreed flagged', u'ahhh filibertos', u'aiello last', u'air location', u'airport finally', u'aisle of', u'aknowledging', u'albeit', u'alcohol this', u'alexi because', u'all accompanied', u'all dc', u'all integrated', u'all quaint', u'all treatments', u'alley from', u'allows temperature', u'almost dissappeared', u'almost uncomfortably', u'along outstanding', u'already had', u'alright told', u'also dollhairs', u'also more', u'also stay', u'alternative close', u'although varying', u'always dicks', u'always phone', u'always worth', u'am head', u'am supporter', u'amazing action', u'amazing herb', u'amazing staff', u'ambiance cupz', u'amc if', u'american flavors', u'amf both', u'amounts hehe', u'an abundant', u'an course', u'an inferiority', u'an spicy', u'ancient', u'and allergy', u'and barbie', u'and brewsky', u'and chasing', u'and considerable', u'and decorations', u'and drowned', u'and fabulously', u'and fullfilling', u'and hair', u'and immediately', u'and khaki', u'and lux', u'and molokai', u'and oolong', u'and picadillo', u'and punk', u'and resumed', u'and seared', u'and snarl', u'and strum', u'and thick', u'and undo', u'and wenn', u'andrew has', u'anglo friends', u'anish kapoor', u'annoyed host', u'another americanized', u'another hype', u'another starbucks', u'antagonizing', u'antipasa', u'any benefits', u'any goodies', u'any printer', u'anybody happy', u'anyone goes', u'anything intriguing', u'anyway good', u'anywhere perfect', u'apathetically stating', u'app let', u'apparently visited', u'appeitizers are', u'appetizer times', u'apple as', u'appliance dies', u'appraise every', u'approached sighed', u'apps including', u'aquavit that', u'architecture the', u'are brusque', u'are doomed', u'are heath', u'are months', u'are refreshingly', u'are styrofoam', u'are yummtastic', u'area offers', u'areas thought', u'arenas but', u'arizona day', u'arizonas swat', u'aromatherapy oils', u'around headed', u'arpaio on', u'arrived as', u'arrr yoo', u'artichoke could', u'artistry are', u'as 30am', u'as chihuahuas', u'as fairmont', u'as just', u'as painless', u'as sens', u'as turkey', u'asap drove', u'asian music', u'ask very', u'asparagus bruschetta', u'ass mountain', u'assign everything', u'assorted platter', u'astute one', u'at adc', u'at cigarettes', u'at fudruckers', u'at lux', u'at prison', u'at suspected', u'ate dairy', u'atm type', u'atmosphere sucked', u'attack then', u'attending concert', u'attentive vt', u'attractions for', u'audrey look', u'authentic enchilada', u'auto detailing', u'availability they', u'ave olive', u'average lunch', u'avocado chunks', u'avoided mostly', u'away dirty', u'aweome', u'awesome held', u'awesome tangy', u'awful two', u'awsome meat', u'az perform', u'babaganoush at', u'baby tantalizing', u'back empty', u'back secondary', u'backpack', u'bacon going', u'bad cause', u'bad replacing', u'bag bread', u'bagels looked', u'bahama is', u'baked to', u'baklava so', u'ball surrounding', u'ballyhooed olive', u'bananas need', u'bands like', u'bannana pecan', u'bar draft', u'bar reccomend', u'barbecue lately', u'barely in', u'baristas watching', u'barrio but', u'bartender catherine', u'bartending gig', u'baseline for', u'basic right', u'basically twist', u'basket approximately', u'bat the', u'bathrooms and', u'battery or', u'bbq fare', u'be 465', u'be christmas', u'be evil', u'be inquired', u'be overcooked', u'be scheduled', u'be tortured', u'beads of', u'beans incidentally', u'bears do', u'beats right', u'beautiful pictures', u'became close', u'because hear', u'becca or', u'becoming frankly', u'beds over', u'beef once', u'been awol', u'been frozen', u'been positives', u'been trying', u'beer hey', u'beers ate', u'before allowing', u'before pausing', u'began snapping', u'behaviorally', u'being ask', u'being handful', u'being rounded', u'belgian trippel', u'bell hopslam', u'belong liked', u'ben stein', u'beniets', u'berry juice', u'best baklava', u'best fry', u'best popcorn', u'best wildflower', u'better cf', u'better noodles', u'betting drinking', u'between pesto', u'beverages organic', u'beyond well', u'bianco instead', u'bier from', u'big flatscreens', u'big seasoned', u'bigger squares', u'bike the', u'bill imo', u'biltmore may', u'bird gets', u'birthday wont', u'bistro kind', u'bit lethargic', u'bitch too', u'bites menu', u'biz_photos gtuapbrsm5dvpqpy9oe14q', u'black mean', u'blah gave', u'bland flan', u'blasphemous and', u'bleep are', u'blindfolded in', u'blockbuster movie', u'bloodymary more', u'blows or', u'blueberry ice', u'boar tastes', u'boating trip', u'bock got', u'bohemians', u'bomb green', u'bone had', u'bonuses the', u'book warehouse', u'bookstore about', u'booth nasty', u'boozey', u'boring it', u'bossy they', u'both fabulous', u'both serve', u'bottle but', u'bottom lock', u'bought purchased', u'bouquet for', u'bowl goodness', u'box carry', u'boy as', u'boyfriend they', u'brady burger', u'brand expressions', u'brats white', u'bread dip', u'bread wonderfu', u'break for', u'breakfast huge', u'breaks by', u'breed for', u'breweries with', u'brick imagine', u'briens just', u'bring comfy', u'brio next', u'bro could', u'broke as', u'bros but', u'brought and', u'brown tofu', u'browsing plus', u'brunch reservations', u'brushetta is', u'bubble wrapped', u'bucks 20', u'buddy anyways', u'bueno like', u'buffet when', u'building do', u'bulb lights', u'bum and', u'bun ps', u'buns to', u'burger hankering', u'burgers cheesecakes', u'burned around', u'burrito chain', u'burritos yum', u'bushy haired', u'business representative', u'busted do', u'busy racking', u'but bust', u'but eversince', u'but key', u'but pleased', u'but start', u'but yesterdays', u'butter made', u'butternut squash', u'buy candles', u'buyers for', u'buzzwords', u'by collection', u'by harkins', u'by opi', u'by steer', u'byob thing', u'cabbage garnish', u'cactus margarita', u'cafe teeter', u'cajun dining', u'cake well', u'calamata', u'california spicy', u'call sterling', u'called imo', u'calling ahem', u'calories dat', u'came full', u'camera monitors', u'can accommodate', u'can last', u'can verify', u'candied rosemary', u'cane if', u'cannot shroomin', u'canyon parkway', u'cappuccinos', u'car drivable', u'caramel cashews', u'carburetor spark', u'cardinale', u'care telling', u'caricature done', u'carne left', u'carpaccio were', u'carrot slaw', u'carryout ordered', u'cartilage pierced', u'case glad', u'cash you', u'casks wonderfully', u'casually chatting', u'catchy that', u'cats makes', u'caused so', u'cc was', u'celebrated during', u'celtic grub', u'center smart', u'cents unlike', u'certain products', u'certificates not', u'chai alone', u'chains its', u'chaises for', u'champagne before', u'chandeliers in', u'change kegs', u'changing menu', u'char taste', u'charge nice', u'charity package', u'charred come', u'chatting would', u'cheap omega', u'cheapest on', u'check prompting', u'checkpoint the', u'cheering it', u'cheese fn', u'cheese somehow', u'cheesecake think', u'cheesy pieces', u'chef selection', u'cherish quality', u'chew obviously', u'chic pizza', u'chicka bow', u'chicken kara', u'chicken tandoori', u'chiladas fluffy', u'children playground', u'chili david', u'chill weather', u'chimichunga cowgirl', u'chinese prepared', u'chipotle decent', u'chips makes', u'cho everytime', u'chocolate semifreddo', u'choice quesadillas', u'chollo owners', u'choosing of', u'chorico they', u'chosen stars', u'christina okay', u'chucking food', u'churro dessert', u'cider talking', u'cinema paradiso', u'circuit they', u'citrus vinegarette', u'civic turns', u'clamshell headphones', u'class runs', u'classic now', u'classy touch', u'clean major', u'cleaners everyone', u'clear in', u'clearly too', u'clientele change', u'clinic opinions', u'close here', u'closer', u'clothed people', u'cloves something', u'clubgoers', u'cmpy_mxuvoxudaa', u'coaster another', u'cockroach make', u'coco taste', u'coe la', u'coffee offering', u'cohesive gesture', u'cold 40', u'cold taste', u'colleagues got', u'collegue how', u'colored rocks', u'com does', u'combinations thrown', u'combs location', u'comes atop', u'comfortable reclining', u'comicon and', u'comments by', u'common topics', u'comp 30spf', u'company in', u'comparison are', u'competition to', u'complaint have', u'complete renovation', u'completely overpriced', u'complicated especially', u'components with', u'computers went', u'conceptually the', u'conclusion based', u'condiment meshed', u'conduct coversation', u'confirm really', u'congeal when', u'connosieur at', u'consider healthy', u'considering them', u'consistently happy', u'constantly using', u'consuming 240', u'container used', u'contentment they', u'contract job', u'convenience pho', u'conversation rotisserie', u'convo over', u'cooked greens', u'cookie wafer', u'cooking wine', u'cool gelato', u'cool vic', u'cooperstown chance', u'cord leather', u'corn potatoe', u'cornered him', u'corporate themselves', u'correlation the', u'cost it', u'costume and', u'cougar waitress', u'could not', u'couldn soak', u'counter muttering', u'country clubs', u'couple follow', u'coupon delux', u'course given', u'courses other', u'coury today', u'covered mussels', u'cowgirl boots', u'cozy here', u'crab yum', u'craft chic', u'cramping chills', u'craper and', u'crave thai', u'crawl will', u'crazy stories', u'cream orientation', u'creamy deep', u'created will', u'creativity keeping', u'creepy happiness', u'crepes was', u'crisis and', u'crispy covered', u'critics like', u'cross to', u'crowd metallica', u'crowds my', u'crumbled mass', u'crunchy toasted', u'crusted definitely', u'ct that', u'cucumber was', u'culinary credentials', u'culvers or', u'cupcake nope', u'curb sucks', u'current generation', u'curry pb', u'custard don', u'customer references', u'customert', u'cute boots', u'cutest stuff', u'cvs is', u'dad dinner', u'daily sundays', u'damages they', u'dampening to', u'dancing their', u'daphne hit', u'darkened mysterious', u'datarock los', u'dates one', u'dave dog', u'day crowd', u'day refreshing', u'days forget', u'dc power', u'dead place', u'deal victoria', u'dear shady', u'decade though', u'decent buzz', u'decent this', u'decision little', u'decor conveyor', u'decorating section', u'deeelish and', u'defaming new', u'defines it', u'definitely hike', u'definition cheesy', u'deifying themselves', u'deli generous', u'delicious belgium', u'delicious mainly', u'delicious warning', u'delightful host', u'delish tuna', u'delivery came', u'demand they', u'dennis maybe', u'dentistry family', u'depleted ask', u'derm was', u'descriptively fun', u'deserts im', u'designated driver', u'desired started', u'despite kids', u'dessert skip', u'destiny my', u'determine your', u'devil could', u'diabetes now', u'diatribe', u'did discount', u'did their', u'didn really', u'diego should', u'differences come', u'different kabobs', u'different upscale', u'digestif qualities', u'dilla sauteed', u'dined lol', u'dingy so', u'dinner complimentary', u'dinner trust', u'dip primarily', u'directionally that', u'dirty luckily', u'disappoint el', u'disappointing lunch', u'discards to', u'discount yet', u'discrepancy do', u'disgusting don', u'dish peas', u'dishes mee', u'dislike wal', u'display her', u'dissapointed when', u'distinguish', u'ditka experienced', u'divided three', u'dj tv', u'do fine', u'do some', u'doctor note', u'does highback', u'doesn recognize', u'dog mutt', u'dogs fast', u'doing overall', u'dollar tuesday', u'dominating burger', u'don overdo', u'done closer', u'dong now', u'donuts holding', u'door lucky', u'dope coke', u'double cookie', u'douche society', u'doughy yet', u'down jacket', u'downer since', u'downstairs variety', u'dozen better', u'dr maybe', u'dragon on', u'draw isn', u'dreams sometime', u'dresses single', u'dried peanut', u'drink however', u'drinkers business', u'drinks compete', u'drinks twice', u'driven have', u'droid looking', u'dropping sushi', u'drunk from', u'dry mashed', u'duane kuiper', u'dude litter', u'dull sides', u'dumpster being', u'durham', u'dusty piece', u'dynamic didn', u'each let', u'ear stretch', u'early valentines', u'earthquake such', u'easily sold', u'easy close', u'eat deduct', u'eat toppings', u'eateries when', u'eating last', u'eavesdrops', u'economics of', u'edelweiss deli', u'educate people', u'effectively and', u'efforts some', u'eggplant blend', u'eggs strikingly', u'eight varieties', u'either live', u'el tiempo', u'electronically mark', u'elevators aren', u'elongating like', u'else spa', u'em thomas', u'embryos', u'emphasize natural', u'employees hey', u'empty maybe', u'enchiladas cheese', u'encouraging by', u'end when', u'endurance to', u'engineers spend', u'enjoy flemings', u'enjoyable overall', u'enjoying john', u'enough cranky', u'enough try', u'enteree', u'entertainment your', u'entire planning', u'entrapped', u'entrees simply', u'environment simple', u'equal typical', u'er neither', u'errors and', u'esp with', u'esplanade this', u'essentially held', u'establishments like', u'etc her', u'ethnicity cook', u'evaluation we', u'even cooked', u'even leonard', u'even siracha', u'evening going', u'event mainly', u'ever bad', u'ever seconds', u'every event', u'everybody claims', u'everyone liability', u'everything football', u'everywhere broadcasting', u'ew tried', u'exactly slices', u'exceeds mine', u'excellent martini', u'except gluten', u'excess color', u'exciting sometimes', u'execution leave', u'exhibits which', u'exotic cheeses', u'expect him', u'expected dolmas', u'expecting world', u'expensive rack', u'experience improves', u'experienced enough', u'expertise and', u'explode it', u'express tellers', u'extensive traditional', u'extra hour', u'extraordinary ingredients', u'extremely random', u'eyebrows here', u'fab but', u'fabulous pizzas', u'face yeah', u'facility don', u'factor because', u'fail miserably', u'faire humor', u'fajita salad', u'falken tires', u'familiarity along', u'family picture', u'fan back', u'fancy expectations', u'fantasia plate', u'fantastic price', u'far nacho', u'farm mosquito', u'fashion deals', u'fast lines', u'fat momma', u'fattoush in', u'fav restaurants', u'favorite boo', u'favorite papaya', u'favorites lunch', u'fear go', u'features generous', u'fee however', u'feel glowing', u'feeling has', u'fees where', u'fellow working', u'femenine', u'festival samples', u'few bets', u'few libations', u'few their', u'fiance', u'fields are', u'fighting cummings', u'file for', u'fill any', u'filling are', u'films here', u'finally become', u'financial institution', u'find instructional', u'find what', u'fine half', u'finger very', u'finished pieces', u'firecracker calamari', u'firm possibly', u'first hold', u'first til', u'fish plate', u'fit her', u'five in', u'fixed since', u'flagstaff which', u'flanked steak', u'flatbread half', u'flavor end', u'flavored center', u'flavorful sometimes', u'flavors mmm', u'fleming visit', u'flight surprisingly', u'floating down', u'flooring would', u'flour bagels', u'flows nicely', u'flutterby', u'foamed', u'folgers anyday', u'followers no', u'fontina cheesesticks', u'food critique', u'food jar', u'food reminds', u'food whilst', u'foods out', u'football across', u'for adore', u'for bunnies', u'for culture', u'for feral', u'for horrible', u'for mailing', u'for panini', u'for required', u'for spas', u'for tube', u'force technology', u'forever saying', u'forgot homophobic', u'formal dance', u'forno ve', u'foster station', u'found lychee', u'fountain offering', u'four twentysomething', u'frame cute', u'franciscans', u'fraternizing with', u'freash and', u'free he', u'free version', u'french chick', u'frequent wildfish', u'fresh brings', u'fresh peppy', u'freshly line', u'friday while', u'fried morsals', u'friend flaco', u'friend woke', u'friendly hi', u'friends arrived', u'friends takes', u'fries offered', u'frills security', u'from 24', u'from cell', u'from farmer', u'from kincaid', u'from partaking', u'from slt', u'from whichever', u'froo', u'frozen house', u'fruit seems', u'fry around', u'ftrs first', u'fudgy', u'full foils', u'fully detailed', u'fun heritage', u'functional telling', u'funky remix', u'furnishings to', u'fushion cusine', u'future women', u'gaga costume', u'gallery artists', u'game expansion', u'games typically', u'garage hook', u'garden supply', u'garlic string', u'gaslamp killa', u'gathers here', u'gay rights', u'geese there', u'gem been', u'general uni', u'generic if', u'genius right', u'genuine thank', u'germany as', u'get code', u'get hotdogs', u'get prior', u'get tooooo', u'gets overwhelming', u'getting got', u'getting waxed', u'gi try', u'giants minor', u'gigantically', u'gina allowed', u'girl crying', u'girlfriend this', u'gitt did', u'give refill', u'given type', u'glad gordon', u'glass empty', u'glasses you', u'glittered up', u'glow skin', u'gnocci really', u'go kat', u'go we', u'goddamn good', u'going bad', u'golden buddah', u'gondola greeter', u'good adam', u'good cozy', u'good hop', u'good parts', u'good starters', u'goodies considering', u'goods within', u'goopey an', u'gorilla bites', u'got distinct', u'got paint', u'got unagi', u'gotten through', u'gps equipment', u'grace among', u'graffiti it', u'grandfather what', u'grant them', u'grass huh', u'gravy awesome', u'greasey which', u'great atmos', u'great dishes', u'great karaoke', u'great promos', u'great to', u'greatly upon', u'green goo', u'greens humboldt', u'grew darker', u'grill places', u'griller for', u'gringoness as', u'groceries fry', u'gross biscuits', u'grounds however', u'groupon 12', u'growing changing', u'grueyere are', u'guacamole gee', u'guava tea', u'guesswork involved', u'guided through', u'gum buttercream', u'gut ll', u'guy sculpting', u'guys storming', u'gyoza those', u'habanero from', u'had barbecue', u'had cousin', u'had gajrela', u'had loung', u'had pimento', u'had sinking', u'had uti', u'haha take', u'hair without', u'half decent', u'halfway was', u'ham aint', u'hampton any', u'hand where', u'handled me', u'handy both', u'hanny being', u'happening in', u'happy bowl', u'harbor and', u'hardcore sushi', u'harkins movie', u'has 50', u'has enlarged', u'has novelty', u'has summer', u'hasn used', u'hate scottsdale', u'haupia unbelievable', u'have brings', u'have destroyed', u'have gotten', u'have luggage', u'have ping', u'have sharpening', u'have token', u'haven studied', u'having make', u'hawaii were', u'hcg am', u'he good', u'he shut', u'head some', u'heal therefore', u'healthy home', u'hear too', u'heart local', u'hearty unfortunately', u'heating lamps', u'heavily blue', u'hectic around', u'heidi she', u'hell wants', u'help hemmed', u'helpful everything', u'hemingway so', u'her chase', u'her inventory', u'her selections', u'herbal supplement', u'here dark', u'here office', u'here whether', u'hesitation can', u'hi feel', u'hiding within', u'higher and', u'highly unappetizing', u'hilarious people', u'him chris', u'himself caught', u'hiphop could', u'hipsters my', u'his cheeks', u'his jerkiness', u'his sick', u'historically intact', u'hitting 116', u'hoagie at', u'hold concerts', u'holes hope', u'holmberg', u'home hula', u'homecooked soup', u'homes away', u'honest hardware', u'honey nor', u'hoodies and', u'hooters hot', u'hopefully willing', u'horizons you', u'horrible street', u'horses know', u'host seating', u'hosts or', u'hot off', u'hotel brand', u'hotels will', u'hour day', u'hour total', u'hours ve', u'house opened', u'houses flourish', u'how crucial', u'how see', u'however lot', u'hsg enjoyed', u'hubs went', u'huge disparity', u'huge rockies', u'huitlacoche oaxacan', u'humiliating and', u'humorously trying', u'hungry moral', u'hurry while', u'husband smashed', u'hyang and', u'hypnotist', u'iceberg kettle', u'id actually', u'ideas will', u'if 20', u'if main', u'iffy chinese', u'ikea know', u'im impressed', u'imagine with', u'immediately engulfed', u'impacted our', u'important go', u'impress which', u'impressive now', u'improving that', u'in basically', u'in collins', u'in elegant', u'in handlign', u'in lot', u'in panda', u'in riverside', u'in stinky', u'in vidal', u'incarnations of', u'include frozen', u'included that', u'including entrees', u'income parents', u'incorrectly disappointed', u'incredible time', u'indeed racist', u'indiana spin', u'individual tables', u'indulgent afternoon', u'inevitably this', u'inferno ll', u'information than', u'ingleside', u'ingridients or', u'injuring himself', u'innovative try', u'insert inappropriate', u'inside seating', u'inspirational gift', u'instant cultural', u'instinctively asked', u'insulting fast', u'intense jam', u'interesting cocktail', u'interior door', u'internet there', u'intimate steak', u'into dicks', u'into oakville', u'into undead', u'introspective search', u'invisible or', u'io', u'irene took', u'irritable bowls', u'is askew', u'is chlorinated', u'is disconnect', u'is from', u'is intermission', u'is mixing', u'is poorly', u'is second', u'is sweetness', u'is voted', u'island layout', u'isn microwaved', u'issue much', u'it ajs', u'it chewable', u'it duce', u'it happy', u'it ma', u'it pitas', u'it sg', u'it thriving', u'italian authentic', u'italy cuisine', u'items cribs', u'its 80', u'its foreign', u'its pub', u'itself eh', u'jack flavor', u'jager shots', u'jalepeno felt', u'jamie vanessa', u'japanese friends', u'jason mr', u'jean and', u'jen doesn', u'jerseys hats', u'jewelry their', u'jj put', u'job taking', u'joeaholic since', u'johnson since', u'joint zack', u'jonathon', u'joyfully walked', u'judith is', u'juicy hipster', u'jumbo clam', u'junior', u'just boiled', u'just entirely', u'just listened', u'just reminds', u'just torta', u'jv friends', u'kale wrap', u'karo syrup', u'kazimierz never', u'keep suggesting', u'ken at', u'keri and', u'key swipe', u'kickass', u'kid zones', u'kids guess', u'kill eachother', u'kim really', u'kinda disappointed', u'kinds greco', u'kisra followed', u'kitchen resides', u'kiwi scallop', u'knicks kanye', u'know as', u'know provolone', u'knowledgeable dentist', u'kobe rib', u'korean overnight', u'kristin the', u'la caliber', u'labelled sweet', u'lacking slightly', u'ladies than', u'lagged terribly', u'lamb next', u'lamps that', u'lane sign', u'larabar etc', u'large gelatinous', u'large theatrical', u'largo sightings', u'last gentleman', u'lasts me', u'later claiming', u'lathering on', u'laugh support', u'laveen nails', u'lay club', u'lazy who', u'league championship', u'learned subway', u'least his', u'leave around', u'leaving 25', u'lee particularly', u'left people', u'leg seems', u'legs in', u'lemonade enough', u'lenny bet', u'less claustraphobic', u'less tartar', u'letraset', u'level because', u'lgo grocery', u'license felt', u'life classic', u'lifetime dessert', u'light oil', u'lighting pool', u'like 30s', u'like buttered', u'like device', u'like good', u'like lightly', u'like panera', u'like saks', u'like tailgate', u'like yucca', u'likes activity', u'lilke', u'limited items', u'line anyone', u'lined it', u'link connectors', u'liquor bill', u'list ok', u'lit dining', u'literally nook', u'little birdy', u'little dried', u'little kindness', u'little productive', u'little taste', u'live maine', u'livid no', u'll recommend', u'loads it', u'lobster great', u'local greasy', u'locale stock', u'location blows', u'location thank', u'locks about', u'loin thick', u'lon ambiance', u'long man', u'longer list', u'look hot', u'looked shade', u'looking prints', u'looooong so', u'los abbey', u'lost theories', u'lotion have', u'loud reggae', u'lounge phoenix', u'love carly', u'love lentils', u'love tables', u'lovelorn', u'lover long', u'lovingly marinated', u'lowers what', u'luchi not', u'lucky usually', u'lumpia mmmmmm', u'lunch long', u'lunching ok', u'luv flo', u'lynn would', u'macayo coupled', u'machines it', u'made as', u'made one', u'maestro lots', u'magically learn', u'mail long', u'mainly cous', u'maison nice', u'major yum', u'make mixed', u'makers was', u'makign the', u'malbec at', u'mall not', u'mamacita movie', u'man took', u'manager chef', u'managers ve', u'mango over', u'manly in', u'many arcadians', u'many independent', u'many tap', u'marbled', u'margarita our', u'margs have', u'marisco good', u'market nobody', u'markups on', u'marshalls doesn', u'martinis he', u'masala is', u'massage chose', u'massive quantities', u'match add', u'math luckily', u'matters if', u'may 13', u'maybe didnt', u'maybe wish', u'mbb unique', u'mcdowell odd', u'me bashir', u'me explaining', u'me may', u'me seats', u'me whipped', u'meal lemon', u'meals last', u'mean other', u'means love', u'meat basil', u'meat similar', u'meatless side', u'mechanic on', u'medicines ahi', u'mediterre savory', u'meet tell', u'meghann service', u'mellow feel', u'member apparently', u'memorable have', u'men thanks', u'mentioned generally', u'menu early', u'menu seldom', u'merc and', u'merits anywhere', u'mess never', u'met she', u'meticulously ate', u'mexican foodie', u'mexico with', u'michael so', u'microwave bed', u'midget pour', u'might include', u'mike showing', u'mile off', u'milk was', u'million had', u'min prompt', u'mindblowing many', u'mines from', u'miniatures', u'minor infraction', u'minus those', u'minutes filming', u'mirror with', u'mismatched silverware', u'missed don', u'misss', u'misty gray', u'mixed positives', u'mmm dirty', u'mo rock', u'mode that', u'modern resorts', u'moist full', u'mold can', u'mom personally', u'mon cenpho', u'money ends', u'monkey bar', u'month 200', u'months old', u'moooooood', u'more candy', u'more fancy', u'more mayo', u'more sandwich', u'more vents', u'morning leaving', u'mortadella kind', u'most decisive', u'most peanut', u'mostly buying', u'moth guess', u'motorcycle means', u'mouse hand', u'mouthgasm you', u'movie after', u'moving animal', u'mprajynbvte even', u'mtv hit', u'much followed', u'much replied', u'muddy not', u'mules and', u'mumbling got', u'museum beautiful', u'mushrooms blend', u'music face', u'musician outside', u'musta', u'muzzle on', u'my bavette', u'my cloak', u'my earning', u'my good', u'my kilt', u'my neighboor', u'my profession', u'my sites', u'my transaction', u'myself barely', u'myself writing', u'nachos beyond', u'nails guess', u'name normally', u'names didn', u'napkins oh', u'nasty he', u'native indians', u'natures', u'neal conan', u'nearby for', u'nearly thirty', u'necessitate the', u'need gifts', u'needed caffeine', u'needing work', u'negative scale', u'neighborhood downtown', u'neither appetizer', u'nervous insanity', u'neutral turf', u'never patronize', u'new barista', u'new games', u'new position', u'new wright', u'news spent', u'next song', u'nice breath', u'nice hint', u'nice screens', u'nicely mentioned', u'nickel sized', u'night crave', u'night release', u'nightmare right', u'nile in', u'nits we', u'no casualties', u'no flatware', u'no mcafee', u'no roll', u'no varieties', u'nod no', u'nomenclature', u'non typical', u'nontheless far', u'nooks with', u'nordstoms but', u'normal quaker', u'north american', u'noshing they', u'not brewing', u'not discolsed', u'not haha', u'not memphis', u'not ra', u'not sterno', u'notable an', u'note phx', u'nothing haven', u'noticeable tomatoes', u'nourish made', u'now chipotle', u'now picturing', u'np have', u'number speak', u'nurses approaches', u'nuts peanuts', u'nye resolution', u'obese slob', u'obscurities for', u'obviously boiled', u'occasion stuck', u'occitane products', u'octopuses on', u'odors wouldn', u'of appreciation', u'of boofay', u'of chauncey', u'of cranial', u'of drift', u'of fishy', u'of grisly', u'of inequity', u'of licked', u'of mist', u'of overcharging', u'of poverty', u'of ritas', u'of shrums', u'of strangers', u'of toothless', u'of wate', u'off cracked', u'off sandwiches', u'offer chai', u'offer will', u'offering restaurants', u'offers which', u'official line', u'often olive', u'oh loneliness', u'oil for', u'oj hit', u'ok sometimes', u'okay though', u'old broad', u'old looking', u'old usually', u'ole it', u'olympics world', u'omg one', u'on aug', u'on country', u'on ginkgo', u'on makeup', u'on prepackaged', u'on spirits', u'on well', u'once spotted', u'one couldnt', u'one jungle', u'one resturant', u'one wins', u'onion even', u'onions tortillas', u'only babysit', u'only fish', u'only paying', u'only trending', u'oohwhee', u'open corporate', u'opened frequently', u'opera bluegrass', u'opinion recommendation', u'optin online', u'options saw', u'or barro', u'or collapsing', u'or enjoyable', u'or hawai', u'or mabel', u'or paypal', u'or rubio', u'or stringy', u'or walks', u'orange when', u'order dim', u'order review', u'ordered candy', u'ordered part', u'ordering coors', u'orders people', u'oregon about', u'organization buff', u'oriented skip', u'originally 75', u'osfs in', u'other child', u'other green', u'other perfect', u'other tips', u'others stacy', u'ounce bag', u'our chores', u'our guest', u'our partys', u'our suppliers', u'ourselves rather', u'out couple', u'out junk', u'out reservation', u'out warped', u'outdoors even', u'outlets especially', u'outside grabbed', u'outstanding farm', u'oven tres', u'over for', u'over seven', u'overall location', u'overcooked cold', u'overhead into', u'overly playful', u'overpriced since', u'oversweetened flavored', u'owls who', u'own lavatory', u'own vegetables', u'owner joe', u'owners met', u'oysters glass', u'pacific head', u'packed always', u'pad si', u'paid belsito', u'paint bit', u'pairings', u'palatte can', u'paltry meatcentric', u'pancakes initially', u'panera fandom', u'pants fortunately', u'paper ornaments', u'par thing', u'parenting the', u'park hint', u'parking lost', u'parmegiana', u'part handled', u'particular ethnicity', u'parties fewer', u'party bit', u'paso', u'passing places', u'past tense', u'pastas normally', u'pastries fun', u'patches yuk', u'patiently no', u'patio throughout', u'patrons guzzling', u'pau instead', u'pay mickey', u'payoing 50', u'peace in', u'peaks specialty', u'peas lima', u'pedi decided', u'peeled when', u'penfolds doesn', u'people calamari', u'people now', u'peoples ideas', u'pepper wonderful', u'peppers swiss', u'percup', u'perfect more', u'perfection preceding', u'perform hootchy', u'perhaps rating', u'perminent retainer', u'person game', u'personal expectation', u'personally steer', u'pesto bruschetta', u'petite 70', u'pharmacy although', u'philavania', u'pho served', u'phoenix especially', u'phoenix solely', u'phone that', u'photos finding', u'physically pull', u'pick drink', u'pickled carrot', u'picnics it', u'pie behind', u'pieces amongst', u'pietra', u'pillows blankets', u'pineapple lunch', u'pino service', u'piss warm', u'pita scribbled', u'pixelized', u'pizza joe', u'pizza wongs', u'pkwy xxx', u'place encourages', u'place nopalito', u'place theater', u'places current', u'plague we', u'plan went', u'plant as', u'plastic organic', u'plate santan', u'plating she', u'play opera', u'playful amuse', u'plays authentic', u'pleasant stripped', u'pleased attentive', u'plenty curry', u'plunge although', u'plus soda', u'poached nearly', u'point dragged', u'points tried', u'police what', u'politely partake', u'pommes frites', u'pool fireplace', u'poor care', u'pop filled', u'popping gasket', u'porcelain don', u'pork should', u'porters ve', u'portions small', u'positions at', u'possible long', u'post our', u'postinos hahahaha', u'potato really', u'potatoes yams', u'pottery or', u'poured to', u'powerful the', u'practice room', u'pre chopped', u'predictament', u'preferably when', u'premade taco', u'preparations simplistic', u'preschool', u'presented even', u'pressure doesn', u'prettiest fanciest', u'pretty loudand', u'pretzel stone', u'previously felt', u'price nothing', u'priced limited', u'prices goodbye', u'pricey seasonal', u'primarily prioritized', u'print there', u'private boutique', u'probably 14', u'probably sign', u'problem under', u'process without', u'produced menu', u'products locally', u'professionalism manners', u'programs bird', u'promised allure', u'promptly be', u'proper staff', u'proprietor jon', u'protect the', u'provide at', u'provides most', u'pseudo artists', u'public parks', u'puff give', u'pullover', u'punches tho', u'pupusa which', u'purchased wanting', u'purina one', u'pus you', u'put fountain', u'putting black', u'qp and', u'quality brands', u'quality stores', u'quasi sports', u'quesadillas my', u'questions helping', u'quick need', u'quickly join', u'quiet season', u'quit ordering', u'quite quiet', u'quoted verbatim', u'rachel when', u'radio promos', u'rail drop', u'raised by', u'ramen mood', u'ranchera which', u'random zucchini', u'rans', u'rarebit was', u'ratcheting after', u'rather dismal', u'rating poorly', u'raving lunatic', u'ray slices', u're cal', u're liquidating', u're tequila', u'read hard', u'ready although', u'real fill', u'real sucker', u'reallly tasty', u'really entered', u'really opens', u'really ties', u'reason happy', u'reasonably cheap', u'recall is', u'received card', u'recent housing', u'receptionist', u'recliner for', u'recommend hitting', u'recommendations according', u'recon', u'recycle idea', u'red this', u'reduce environmental', u'refill anyway', u'reflects her', u'refrigerator has', u'regardless still', u'registry info', u'regular love', u'regulars apologoze', u'reinvest your', u'relatives arrive', u'relaxing viewing', u'relish parmesan', u'remaining area', u'remember mcdowell', u'remodel had', u'rename new', u'rental home', u'repaired replaced', u'replaced constantly', u'report taylor', u'repurposed 1950s', u'requests the', u'rescue on', u'reservation waited', u'residents so', u'resort stay', u'responds that', u'restaurant almost', u'restaurant imo', u'restaurant suicide', u'restaurants okay', u'restrictions sheesh', u'results every', u'retirement center', u'return person', u'reusable water', u'review immediately', u'reviewer prop', u'reviews skyward', u'reynolds so', u'ribeye our', u'rice crepe', u'rich background', u'ricky is', u'ridge marketplace', u'riedel crystal', u'right homemade', u'rightly fully', u'rings then', u'risk full', u'rivas helped', u'road people', u'roasted mushroom', u'robin stars', u'rocked again', u'rod we', u'roll choices', u'rollercoaster in', u'rolls whizzed', u'roof just', u'room know', u'rooms after', u'rootmetrics com', u'roses daisies', u'rotkohl', u'round then', u'row the', u'rubbed delmonico', u'rude oh', u'ruined multiple', u'run best', u'running devoid', u'rush excellence', u'rusty chain', u'sacco is', u'sadly central', u'safeway card', u'said cuba', u'said suck', u'sakebombers', u'salad gross', u'salad website', u'salata and', u'salespeople swarming', u'salmon unspectacular', u'salsa great', u'salt granules', u'salty however', u'same ambiance', u'same mints', u'sammich away', u'sampler fresh', u'sand my', u'sandwich easy', u'sandwich wet', u'sanfrancisco really', u'santan for', u'sashimi horizons', u'satin for', u'sattle', u'sauce breakfast', u'sauce primo', u'sauces loves', u'sausage meal', u'save malee', u'savory potato', u'saw pit', u'say dmb', u'say slow', u'says 17', u'scale stars', u'scandalesque folks', u'scattered fresh', u'schapps shot', u'schnapps', u'school sign', u'scolded the', u'score went', u'scottsdale braced', u'scottsdale reasonably', u'scrambled when', u'screaming out', u'screws feel', u'scurries', u'seafood tepid', u'seared steaks', u'seasoned etc', u'seat guy', u'seating delighted', u'seats totally', u'second of', u'secret treasure', u'secured him', u'see college', u'see pei', u'seeds nor', u'seem genuine', u'seeming glutinous', u'seen bunch', u'segment flight', u'selected any', u'selection tasty', u'sell 43', u'selling your', u'send the', u'senses ordered', u'separate please', u'serene sanctuary', u'seriously clearly', u'serrano pizza', u'serve sub', u'served weekends', u'server oscar', u'servers quietly', u'service bugs', u'service lame', u'service teenagers', u'serving chinese', u'set acrylic', u'setting tip', u'several concentrated', u'several videos', u'sexy ve', u'shaded sitting', u'shakes did', u'shane also', u'share crap', u'sharing among', u'shaves from', u'she gasped', u'she styles', u'sheila they', u'shelves stocked', u'shimp', u'shirt 68', u'shit puddle', u'shocked never', u'shogun might', u'shop in', u'shoppers yet', u'shore thing', u'shorter couldn', u'shots is', u'shoulder laundry', u'show friend', u'shower star', u'shoyu less', u'shrimp ordering', u'shuffleboard pool', u'sick am', u'side lines', u'sides cost', u'sight how', u'signature cosmo', u'siiting on', u'silvers attached', u'simple appropriate', u'simple woven', u'simply wasted', u'since had', u'sincerely jake', u'single friggin', u'sinuses out', u'sister believe', u'site delicious', u'situation did', u'size are', u'sized amounts', u'sizes those', u'sketchpad gave', u'skills outside', u'skins sweet', u'skyrocket again', u'slaw blue', u'sleeves too', u'slices gorgonzola', u'sliders some', u'slightly lacking', u'slipping again', u'slow deep', u'sluggish and', u'small cardboard', u'small mess', u'small vegetable', u'smart but', u'smell bit', u'smidge', u'smithtown ny', u'smokey called', u'smoother puree', u'snack food', u'snap which', u'sniffing peoples', u'snotnose owners', u'so attached', u'so drinks', u'so jaded', u'so real', u'so tread', u'soba thing', u'socks is', u'sofa now', u'softness spice', u'sold invited', u'solid recommendation', u'some 18', u'some chipped', u'some extent', u'some italian', u'some page', u'some servicable', u'some uk', u'somehow graduated', u'someone regardless', u'something exceptional', u'something vegetable', u'sometimes pound', u'somewhat stand', u'son spit', u'sons 19', u'sooner without', u'sopapillas rock', u'sorry bucks', u'sorts and', u'sound undesirable', u'soup delicate', u'soups he', u'sours was', u'southwestardly to', u'spa add', u'space said', u'spaghetti while', u'sparked this', u'speaker megaphone', u'special doesn', u'special sunday', u'specials raspberry', u'specific show', u'spectacular wonderful', u'spend agree', u'spent standing', u'spices did', u'spicy guest', u'spiiiiiiiiicy', u'spinato or', u'splayed', u'splurging don', u'spoonful so', u'sportszone with', u'spotless kitchen', u'spray randomly', u'sprinkled around', u'sprung you', u'squash fall', u'squish in', u'stablishment', u'staff beyond', u'staff recognizes', u'stage suggests', u'stale walnuts', u'stand update', u'standard unsecured', u'stanks up', u'star moniker', u'starbucks to', u'stars found', u'start entree', u'started naming', u'starts especially', u'state too', u'station nice', u'stay here', u'steady for', u'steak toppings', u'stealing usually', u'steeping accessories', u'stepford esque', u'steven fatty', u'stickers sea', u'still believed', u'still locked', u'still trendy', u'stinky not', u'stockroom or', u'stone maybe', u'stop morning', u'store aimlessly', u'store pharmacists', u'stores located', u'storyteller surrounded', u'strange adoration', u'strategically perfect', u'stray little', u'street their', u'strict carnivore', u'striped world', u'strong fan', u'struggled lemon', u'students trying', u'stuff funny', u'stuffed saturday', u'stupid busy', u'style ever', u'style vegetarians', u'sub an', u'subpar that', u'substituted blueberry', u'subway same', u'such carnivore', u'such specific', u'sucks for', u'suffice with', u'sugary sweet', u'suggestion go', u'suites during', u'summary warm', u'sun am', u'sunday fundays', u'sunlight smooth', u'super beautiful', u'super uniformed', u'supermarket eating', u'supplies of', u'supposedly covered', u'sure keeps', u'surfers and', u'surprised although', u'surrounded at', u'sushi delivered', u'suspect as', u'swadee any', u'swearing and', u'sweet beer', u'sweet pots', u'sweetie we', u'swimsuit', u'switches for', u'syrah instead', u'systems check', u'table definite', u'table stating', u'tables pretty', u'taco big', u'tacos first', u'taddle', u'tailored so', u'take longer', u'taken sooo', u'taking group', u'talk next', u'tall overhead', u'tampon purchase', u'tank with', u'tapa places', u'taquitos think', u'tart lingon', u'taste deeelicious', u'tasted average', u'tasteless odd', u'tasting anyways', u'tasty bites', u'tasty post', u'tattooed hipsters', u'taylor certainly', u'tea lava', u'teaching young', u'teas clean', u'technicians absolutely', u'teenaged boy', u'teleggio', u'temp on', u'temperature by', u'tempura it', u'tender slightly', u'tentative my', u'term arugula', u'terrible dim', u'terrific new', u'testimonials from', u'texture did', u'thai foodie', u'than astounding', u'than filliberto', u'than old', u'than tasting', u'thanks artie', u'thankyouverymuch then', u'that blowdries', u'that cox', u'that expressed', u'that hooter', u'that manslaughter', u'that pesky', u'that safety', u'that suddenly', u'that weather', u'the 45ish', u'the ankles', u'the barber', u'the bonuses', u'the caloric', u'the chilie', u'the consolidated', u'the danish', u'the doorknob', u'the essentially', u'the flew', u'the getty', u'the hangrenade', u'the icecream', u'the judas', u'the liklihood', u'the matador', u'the mornings', u'the objects', u'the pascual', u'the pocketbook', u'the quaintness', u'the rez', u'the schlotzskys', u'the situation', u'the sprinklers', u'the swipe', u'the tomatoe', u'the unsatisfied', u'the weren', u'theater generally', u'thefreshfiends', u'their broasted', u'their delish', u'their glassware', u'their los', u'their pharmacy', u'their several', u'their tricks', u'them become', u'them karen', u'them stoke', u'themm', u'then debated', u'then nutella', u'then treats', u'there baseball', u'there give', u'there pole', u'there waddle', u'these bicycle', u'these non', u'they annouce', u'they force', u'they promised', u'they ultimately', u'thicker maybe', u'thin walls', u'thing score', u'things little', u'think burgers', u'think organs', u'thinking mmmmmmaybe', u'thirsty now', u'this cardigan', u'this evolution', u'this joke', u'this passed', u'this smacks', u'this when', u'those 30', u'those hanging', u'those simple', u'though extremely', u'though way', u'thoughtfully balanced', u'three enchilada', u'threw an', u'through deal', u'through which', u'thru groupon', u'thursday met', u'ticket seafood', u'tier looked', u'til its', u'time arrivals', u'time grew', u'time returned', u'timeframe within', u'times off', u'tinge to', u'tiny shelves', u'tipper on', u'tired decided', u'tj chicken', u'to adequate', u'to blort', u'to citrus', u'to despise', u'to fancier', u'to gspot', u'to jon', u'to mealy', u'to overall', u'to purposely', u'to sarku', u'to spumoni', u'to totties', u'to yoko', u'toasted wrap', u'today packed', u'toes well', u'together midway', u'told 09', u'tomatilla salsa', u'tomatoes looked', u'toned that', u'tons obviously', u'too entrees', u'too played', u'took backseat', u'toooooooooo dry', u'top lid', u'toppers to', u'tops liqour', u'tortas sandwiches', u'tortillion', u'total dining', u'totally exceeded', u'totino was', u'touched up', u'tourist except', u'towards modern', u'town culinary', u'town zuzu', u'track sliding', u'traditional clothing', u'traffic old', u'train thought', u'tran', u'transmit lyme', u'trauma my', u'tray did', u'treat staff', u'treats yay', u'trending artisanal', u'tribes it', u'tried items', u'trim some', u'trip wherever', u'troop has', u'truck events', u'true my', u'truly exciting', u'trustafarians and', u'try fairytale', u'try stuffing', u'tshirt and', u'tucson at', u'tumescent taco', u'tuneup', u'turmoil on', u'turrble', u'tv wish', u'twice immediately', u'two 10', u'two finer', u'two plants', u'two week', u'type vietnamese', u'typical pizzas', u'tyson for', u'ugh give', u'ulta', u'umami tastebuds', u'unadventurous extended', u'unbelievable hands', u'uncomfortable so', u'under god', u'undergrads anyway', u'understandable think', u'undoubtedly complain', u'unfilled when', u'unfresh produce', u'uniforms they', u'unique few', u'united again', u'unlike ada', u'unnecessary lecture', u'unpretentious straightforward', u'unsatisfying imitations', u'until explained', u'unusual wall', u'up breakouts', u'up glass', u'up patio', u'up tch', u'update looks', u'upholstey and', u'ups no', u'upstairs forget', u'urgency its', u'us disliked', u'us pound', u'usa women', u'use pizza', u'used non', u'usher pitbull', u'usual deli', u'usually came', u'usually should', u'uttered here', u'vacuum never', u'validates for', u'valley saltys', u'values quality', u'vantastic donuts', u'variety whether', u'vast amount', u've revealed', u'vegan funfetti', u'vegetable kind', u'vegetarian messob', u'veggie skip', u'vehicle fumes', u'vendors prices', u'venue stars', u'vermont mac', u'very audrey', u'very grimy', u'very saucy', u'vet near', u'vibe or', u'video ipod', u'view may', u'villa where', u'vinegar salad', u'vinyl tape', u'visible for', u'visit nickel', u'visited purchased', u'visits didn', u'vk elle', u'volcano and', u'vouch they', u'waaaaaay to', u'waffles of', u'wait fast', u'waiter almost', u'waiters here', u'waitress described', u'waitresses recognize', u'walk foot', u'wall adapter', u'wallet prohibits', u'walmart ugh', u'wannabees that', u'want outstanding', u'wanted gyro', u'wants place', u'warm is', u'warned for', u'was 130pm', u'was beginnng', u'was colossal', u'was doorway', u'was frowning', u'was inferior', u'was mesa', u'was philly', u'was romain', u'was spread', u'was tub', u'wasabi lemongrass', u'washington it', u'wasn messy', u'waste as', u'watch sexy', u'watching sponge', u'water recipe', u'watermark for', u'waving your', u'way granted', u'way yum', u'we definitley', u'we presumed', u'weak pour', u'wearing gigantic', u'weber if', u'wedge because', u'week duties', u'weekdays however', u'weekends of', u'weeping with', u'weird combination', u'welcome as', u'well babies', u'well limp', u'well truly', u'went knowing', u'were blow', u'were eager', u'were interfering', u'were plagued', u'were spinatos', u'were wowed', u'west during', u'wet highly', u'what care', u'what jerks', u'what sides', u'whatever fall', u'wheat or', u'when communicating', u'when music', u'when vegetables', u'where happen', u'wheres gordon', u'which eliminated', u'which sample', u'while creating', u'while rt', u'whipped butter', u'white disk', u'whites grams', u'who greeted', u'who travel', u'whole interior', u'whom luckily', u'why carbo', u'wicked and', u'wife dished', u'wifi supposedly', u'wildlife professional', u'will lower', u'willing staff', u'window finally', u'wine albeit', u'wine sangria', u'wing out', u'winner because', u'wipers had', u'wish happy', u'with alvan', u'with bright', u'with concentrated', u'with earl', u'with gimmick', u'with irritation', u'with marscarpone', u'with packer', u'with raul', u'with singapore', u'with tchotchke', u'with warner', u'without boats', u'without scraping', u'woah are', u'womb and', u'won putting', u'wonderful feeling', u'wonderful vietnamese', u'wonton were', u'woods valley', u'word stickler', u'work convinced', u'work unless', u'workers there', u'workout yet', u'world kitchen', u'worry crowd', u'worst menus', u'worthiness many', u'would forget', u'would wonder', u'wow lunch', u'wraped filets', u'wright chef', u'written request', u'wronged by', u'www glutenfreecreations', u'xtremely poor', u'yang is', u'yay to', u'yeah when', u'years 14', u'yecch so', u'yelp bookmarks', u'yelper commented', u'yep use', u'yes rented', u'yet current', u'yhave about', u'yoga when', u'yogurtology can', u'you', u'you cork', u'you happened', u'you noticed', u'you significantly', u'you wolf', u'youngsters get', u'your coffeehouse', u'your generosity', u'your modesty', u'your sausage', u'your wanna', u'yourself tavern', u'yucky oh', u'yumm good', u'yummy grapefruit', u'yup she', u'zegeney', u'zinburger issue', u'zombie attack', u'zucchini sauteed']\n",
      "(172428, 2869511)\n",
      "(57477, 2869511)\n"
     ]
    }
   ],
   "source": [
    "vect.fit(X_train)\n",
    "feat_names = vect.get_feature_names()\n",
    "print('num_features:', len(feat_names))\n",
    "# print(feat_names[::1000])\n",
    "\n",
    "X_train_vect = vect.transform(X_train)\n",
    "print(X_train_vect.shape)\n",
    "\n",
    "X_test_vect = vect.transform(X_test)\n",
    "print(X_test_vect.shape)"
   ]
  },
  {
   "cell_type": "markdown",
   "metadata": {},
   "source": [
    "### use model"
   ]
  },
  {
   "cell_type": "code",
   "execution_count": 69,
   "metadata": {
    "collapsed": true
   },
   "outputs": [],
   "source": [
    "# use logistic regression\n",
    "clf = LogisticRegression()\n",
    "clf.fit(X_train_vect, y_train)\n",
    "preds = clf.predict(X_test_vect)"
   ]
  },
  {
   "cell_type": "code",
   "execution_count": 70,
   "metadata": {
    "collapsed": false
   },
   "outputs": [
    {
     "name": "stdout",
     "output_type": "stream",
     "text": [
      "0.87803817179\n"
     ]
    }
   ],
   "source": [
    "# compute accuracy\n",
    "accuracy = accuracy_score(y_test, preds)\n",
    "print(accuracy)"
   ]
  },
  {
   "cell_type": "code",
   "execution_count": 71,
   "metadata": {
    "collapsed": false
   },
   "outputs": [
    {
     "name": "stdout",
     "output_type": "stream",
     "text": [
      "Smallest Coefs:\n",
      "[u'ok' u'not' u'worst' u'bland' u'mediocre' u'nothing' u'overpriced'\n",
      " u'rude' u'average' u'horrible']\n",
      "\n",
      "Largest Coefs: \n",
      "[u'great' u'delicious' u'amazing' u'awesome' u'love' u'excellent' u'best'\n",
      " u'perfect' u'fantastic' u'wonderful']\n"
     ]
    }
   ],
   "source": [
    "feat_names = np.array(feat_names)\n",
    "sorted_coef_index = clf.coef_[0].argsort()\n",
    "\n",
    "print('Smallest Coefs:\\n{}\\n'.format(feat_names[sorted_coef_index[:10]]))\n",
    "print('Largest Coefs: \\n{}'.format(feat_names[sorted_coef_index[:-11:-1]]))"
   ]
  },
  {
   "cell_type": "markdown",
   "metadata": {},
   "source": [
    "### References\n",
    "- https://machinelearningmastery.com/prepare-text-data-machine-learning-scikit-learn/\n",
    "- http://scikit-learn.org/stable/tutorial/text_analytics/working_with_text_data.html\n",
    "- http://scikit-learn.org/stable/modules/feature_extraction.html"
   ]
  }
 ],
 "metadata": {
  "kernelspec": {
   "display_name": "Python 2",
   "language": "python",
   "name": "python2"
  },
  "language_info": {
   "codemirror_mode": {
    "name": "ipython",
    "version": 2
   },
   "file_extension": ".py",
   "mimetype": "text/x-python",
   "name": "python",
   "nbconvert_exporter": "python",
   "pygments_lexer": "ipython2",
   "version": "2.7.13"
  }
 },
 "nbformat": 4,
 "nbformat_minor": 2
}
